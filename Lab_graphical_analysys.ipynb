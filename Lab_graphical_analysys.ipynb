{
  "nbformat": 4,
  "nbformat_minor": 0,
  "metadata": {
    "colab": {
      "name": "Practise_2_applied_statistics.ipynb",
      "provenance": [],
      "authorship_tag": "ABX9TyMP2JHujRD9sLXuUDTeBWGy",
      "include_colab_link": true
    },
    "kernelspec": {
      "name": "python3",
      "display_name": "Python 3"
    },
    "language_info": {
      "name": "python"
    }
  },
  "cells": [
    {
      "cell_type": "markdown",
      "metadata": {
        "id": "view-in-github",
        "colab_type": "text"
      },
      "source": [
        "<a href=\"https://colab.research.google.com/github/antonsysoev/ktmi_ai/blob/main/Lab_graphical_analysys.ipynb\" target=\"_parent\"><img src=\"https://colab.research.google.com/assets/colab-badge.svg\" alt=\"Open In Colab\"/></a>"
      ]
    },
    {
      "cell_type": "markdown",
      "metadata": {
        "id": "CF6dqZC-HeT0"
      },
      "source": [
        "Подключаем пакет для работы с R"
      ]
    },
    {
      "cell_type": "code",
      "metadata": {
        "id": "DKF0oKIAHXHW"
      },
      "source": [
        "%load_ext rpy2.ipython"
      ],
      "execution_count": null,
      "outputs": []
    },
    {
      "cell_type": "markdown",
      "metadata": {
        "id": "hW_9WhgwH0MJ"
      },
      "source": [
        "Используя рассмотренный ранее  код, выполните следующие **задания**:\n",
        "\n",
        "1. Постройте график продолжительности жизни (Life Expectancy) по годам для \n",
        "пяти континентов, используя фактор continent. Убедитесь, что вы изменили подписи осей, чтобы график читался корректно.\n",
        "\n",
        "2. Постройте график ВВП на душу населения (GDP per capita) по годам для США, Канады и Мексики. Используйте столбец gdpPercap для данных о ВВП на душу населения.\n",
        "\n",
        "3. Постройте новый график, изображающий интересные для вас закономерности в данных, используя набор данных gapminder. "
      ]
    },
    {
      "cell_type": "markdown",
      "metadata": {
        "id": "ItRAv1Q5I12P"
      },
      "source": [
        "Для загрузки данных gapminder используйте следующий код"
      ]
    },
    {
      "cell_type": "code",
      "metadata": {
        "colab": {
          "base_uri": "https://localhost:8080/"
        },
        "id": "B27_HKrXI1X7",
        "outputId": "979f60df-d6b5-4cbd-face-5d7480e5b17e"
      },
      "source": [
        "%%R\n",
        "\n",
        "install.packages(\"gapminder\")\n",
        "library(gapminder)\n",
        "gapminder_df <- gapminder"
      ],
      "execution_count": null,
      "outputs": [
        {
          "output_type": "stream",
          "name": "stderr",
          "text": [
            "R[write to console]: Installing package into ‘/usr/local/lib/R/site-library’\n",
            "(as ‘lib’ is unspecified)\n",
            "\n",
            "R[write to console]: trying URL 'https://cran.rstudio.com/src/contrib/gapminder_0.3.0.tar.gz'\n",
            "\n",
            "R[write to console]: Content type 'application/x-gzip'\n",
            "R[write to console]:  length 2110951 bytes (2.0 MB)\n",
            "\n",
            "R[write to console]: =\n",
            "R[write to console]: =\n",
            "R[write to console]: =\n",
            "R[write to console]: =\n",
            "R[write to console]: =\n",
            "R[write to console]: =\n",
            "R[write to console]: =\n",
            "R[write to console]: =\n",
            "R[write to console]: =\n",
            "R[write to console]: =\n",
            "R[write to console]: =\n",
            "R[write to console]: =\n",
            "R[write to console]: =\n",
            "R[write to console]: =\n",
            "R[write to console]: =\n",
            "R[write to console]: =\n",
            "R[write to console]: =\n",
            "R[write to console]: =\n",
            "R[write to console]: =\n",
            "R[write to console]: =\n",
            "R[write to console]: =\n",
            "R[write to console]: =\n",
            "R[write to console]: =\n",
            "R[write to console]: =\n",
            "R[write to console]: =\n",
            "R[write to console]: =\n",
            "R[write to console]: =\n",
            "R[write to console]: =\n",
            "R[write to console]: =\n",
            "R[write to console]: =\n",
            "R[write to console]: =\n",
            "R[write to console]: =\n",
            "R[write to console]: =\n",
            "R[write to console]: =\n",
            "R[write to console]: =\n",
            "R[write to console]: =\n",
            "R[write to console]: =\n",
            "R[write to console]: =\n",
            "R[write to console]: =\n",
            "R[write to console]: =\n",
            "R[write to console]: =\n",
            "R[write to console]: =\n",
            "R[write to console]: =\n",
            "R[write to console]: =\n",
            "R[write to console]: =\n",
            "R[write to console]: =\n",
            "R[write to console]: =\n",
            "R[write to console]: =\n",
            "R[write to console]: =\n",
            "R[write to console]: =\n",
            "R[write to console]: \n",
            "\n",
            "R[write to console]: downloaded 2.0 MB\n",
            "\n",
            "\n",
            "R[write to console]: \n",
            "\n",
            "R[write to console]: \n",
            "R[write to console]: The downloaded source packages are in\n",
            "\t‘/tmp/Rtmp6HSToV/downloaded_packages’\n",
            "R[write to console]: \n",
            "R[write to console]: \n",
            "\n"
          ]
        }
      ]
    },
    {
      "cell_type": "markdown",
      "metadata": {
        "id": "mZDBrxTGLDsA"
      },
      "source": [
        "Код для выполнения **задания 1**"
      ]
    },
    {
      "cell_type": "code",
      "metadata": {
        "colab": {
          "base_uri": "https://localhost:8080/"
        },
        "id": "oIMFa9W4LJ1R",
        "outputId": "b5d9923d-01e3-4d97-dca2-00f45910ba30"
      },
      "source": [
        "## Ваш код\n",
        "%%R"
      ],
      "execution_count": null,
      "outputs": [
        {
          "output_type": "stream",
          "name": "stderr",
          "text": [
            "UsageError: %%R is a cell magic, but the cell body is empty. Did you mean the line magic %R (single %)?\n"
          ]
        }
      ]
    },
    {
      "cell_type": "markdown",
      "metadata": {
        "id": "678tdTG4LQOx"
      },
      "source": [
        "Код для выполнения **задания 2**"
      ]
    },
    {
      "cell_type": "code",
      "metadata": {
        "colab": {
          "base_uri": "https://localhost:8080/"
        },
        "id": "cwbwaRgxJenm",
        "outputId": "805a1030-e07e-4926-a3fe-cffa2fd1bc20"
      },
      "source": [
        "## Ваш код\n",
        "%%R"
      ],
      "execution_count": null,
      "outputs": [
        {
          "output_type": "stream",
          "name": "stderr",
          "text": [
            "UsageError: %%R is a cell magic, but the cell body is empty. Did you mean the line magic %R (single %)?\n"
          ]
        }
      ]
    },
    {
      "cell_type": "markdown",
      "metadata": {
        "id": "UNxvpIe6LaSn"
      },
      "source": [
        "Код для выполнения **задания 3**"
      ]
    },
    {
      "cell_type": "code",
      "metadata": {
        "colab": {
          "base_uri": "https://localhost:8080/"
        },
        "id": "gjxno4pBLTII",
        "outputId": "bf551ff0-83d2-4b53-cf08-aeef6df38ff2"
      },
      "source": [
        "## Ваш код\n",
        "%%R"
      ],
      "execution_count": null,
      "outputs": [
        {
          "output_type": "stream",
          "name": "stderr",
          "text": [
            "UsageError: %%R is a cell magic, but the cell body is empty. Did you mean the line magic %R (single %)?\n"
          ]
        }
      ]
    },
    {
      "cell_type": "code",
      "metadata": {
        "id": "OS1MGbwGLdbO"
      },
      "source": [
        ""
      ],
      "execution_count": null,
      "outputs": []
    }
  ]
}