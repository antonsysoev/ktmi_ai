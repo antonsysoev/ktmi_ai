{
  "nbformat": 4,
  "nbformat_minor": 0,
  "metadata": {
    "colab": {
      "name": "Practise_2_ktmi_ai.ipynb",
      "provenance": [],
      "toc_visible": true,
      "authorship_tag": "ABX9TyPT0N70RsBJ2r8bvlyvzZOI",
      "include_colab_link": true
    },
    "kernelspec": {
      "name": "python3",
      "display_name": "Python 3"
    },
    "language_info": {
      "name": "python"
    }
  },
  "cells": [
    {
      "cell_type": "markdown",
      "metadata": {
        "id": "view-in-github",
        "colab_type": "text"
      },
      "source": [
        "<a href=\"https://colab.research.google.com/github/antonsysoev/ktmi_ai/blob/main/Practise_2_ktmi_ai.ipynb\" target=\"_parent\"><img src=\"https://colab.research.google.com/assets/colab-badge.svg\" alt=\"Open In Colab\"/></a>"
      ]
    },
    {
      "cell_type": "markdown",
      "metadata": {
        "id": "CF6dqZC-HeT0"
      },
      "source": [
        "Подключаем пакет для работы с R"
      ]
    },
    {
      "cell_type": "code",
      "metadata": {
        "id": "DKF0oKIAHXHW"
      },
      "source": [
        "%load_ext rpy2.ipython"
      ],
      "execution_count": 2,
      "outputs": []
    },
    {
      "cell_type": "markdown",
      "metadata": {
        "id": "hW_9WhgwH0MJ"
      },
      "source": [
        "Используя рассмотренный ранее  код, выполните следующие **задания**:\n",
        "\n",
        "1. Постройте график продолжительности жизни (Life Expectancy) по годам для \n",
        "пяти континентов, используя фактор continent. Убедитесь, что вы изменили подписи осей, чтобы график читался корректно.\n",
        "\n",
        "2. Постройте график ВВП на душу населения (GDP per capita) по годам для США, Канады и Мексики. Используйте столбец gdpPercap для данных о ВВП на душу населения.\n",
        "\n",
        "3. Постройте новый график, изображающий интересные для вас закономерности в данных, используя набор данных gapminder. "
      ]
    },
    {
      "cell_type": "markdown",
      "metadata": {
        "id": "ItRAv1Q5I12P"
      },
      "source": [
        "Для загрузки данных gapminder используйте следующий код"
      ]
    },
    {
      "cell_type": "code",
      "metadata": {
        "colab": {
          "base_uri": "https://localhost:8080/"
        },
        "id": "B27_HKrXI1X7",
        "outputId": "f8f7fba0-46aa-4e30-ba96-fc715b97d0fd"
      },
      "source": [
        "%%R\n",
        "\n",
        "install.packages(\"gapminder\")\n",
        "library(gapminder)\n",
        "gapminder_df <- gapminder"
      ],
      "execution_count": null,
      "outputs": [
        {
          "output_type": "stream",
          "name": "stderr",
          "text": [
            "R[write to console]: Installing package into ‘/usr/local/lib/R/site-library’\n",
            "(as ‘lib’ is unspecified)\n",
            "\n",
            "R[write to console]: trying URL 'https://cran.rstudio.com/src/contrib/gapminder_0.3.0.tar.gz'\n",
            "\n",
            "R[write to console]: Content type 'application/x-gzip'\n",
            "R[write to console]:  length 2110951 bytes (2.0 MB)\n",
            "\n",
            "R[write to console]: =\n",
            "R[write to console]: =\n",
            "R[write to console]: =\n",
            "R[write to console]: =\n",
            "R[write to console]: =\n",
            "R[write to console]: =\n",
            "R[write to console]: =\n",
            "R[write to console]: =\n",
            "R[write to console]: =\n",
            "R[write to console]: =\n",
            "R[write to console]: =\n",
            "R[write to console]: =\n",
            "R[write to console]: =\n",
            "R[write to console]: =\n",
            "R[write to console]: =\n",
            "R[write to console]: =\n",
            "R[write to console]: =\n",
            "R[write to console]: =\n",
            "R[write to console]: =\n",
            "R[write to console]: =\n",
            "R[write to console]: =\n",
            "R[write to console]: =\n",
            "R[write to console]: =\n",
            "R[write to console]: =\n",
            "R[write to console]: =\n",
            "R[write to console]: =\n",
            "R[write to console]: =\n",
            "R[write to console]: =\n",
            "R[write to console]: =\n",
            "R[write to console]: =\n",
            "R[write to console]: =\n",
            "R[write to console]: =\n",
            "R[write to console]: =\n",
            "R[write to console]: =\n",
            "R[write to console]: =\n",
            "R[write to console]: =\n",
            "R[write to console]: =\n",
            "R[write to console]: =\n",
            "R[write to console]: =\n",
            "R[write to console]: =\n",
            "R[write to console]: =\n",
            "R[write to console]: =\n",
            "R[write to console]: =\n",
            "R[write to console]: =\n",
            "R[write to console]: =\n",
            "R[write to console]: =\n",
            "R[write to console]: =\n",
            "R[write to console]: =\n",
            "R[write to console]: =\n",
            "R[write to console]: =\n",
            "R[write to console]: \n",
            "\n",
            "R[write to console]: downloaded 2.0 MB\n",
            "\n",
            "\n",
            "R[write to console]: \n",
            "\n",
            "R[write to console]: \n",
            "R[write to console]: The downloaded source packages are in\n",
            "\t‘/tmp/Rtmp28vlUF/downloaded_packages’\n",
            "R[write to console]: \n",
            "R[write to console]: \n",
            "\n"
          ]
        }
      ]
    },
    {
      "cell_type": "markdown",
      "metadata": {
        "id": "RRsw91sMmdKU"
      },
      "source": [
        "Постройте график ВВП на душу населения (GDP per capita) по годам для США, Канады и Мексики. Используйте столбец gdpPercap для данных о ВВП на душу населения."
      ]
    },
    {
      "cell_type": "markdown",
      "metadata": {
        "id": "mZDBrxTGLDsA"
      },
      "source": [
        "Код для выполнения **задания 1**"
      ]
    },
    {
      "cell_type": "code",
      "metadata": {
        "colab": {
          "base_uri": "https://localhost:8080/"
        },
        "id": "oIMFa9W4LJ1R",
        "outputId": "7133fd53-d875-49e3-aff1-6083760f505e"
      },
      "source": [
        "## Ваш код\n",
        "%%R\n",
        "\n"
      ],
      "execution_count": 1,
      "outputs": [
        {
          "output_type": "stream",
          "name": "stderr",
          "text": [
            "UsageError: Cell magic `%%R` not found.\n"
          ]
        }
      ]
    },
    {
      "cell_type": "markdown",
      "metadata": {
        "id": "678tdTG4LQOx"
      },
      "source": [
        "Код для выполнения **задания 2**"
      ]
    },
    {
      "cell_type": "code",
      "metadata": {
        "colab": {
          "base_uri": "https://localhost:8080/"
        },
        "id": "cwbwaRgxJenm",
        "outputId": "805a1030-e07e-4926-a3fe-cffa2fd1bc20"
      },
      "source": [
        "## Ваш код\n",
        "%%R"
      ],
      "execution_count": null,
      "outputs": [
        {
          "output_type": "stream",
          "name": "stderr",
          "text": [
            "UsageError: %%R is a cell magic, but the cell body is empty. Did you mean the line magic %R (single %)?\n"
          ]
        }
      ]
    },
    {
      "cell_type": "markdown",
      "metadata": {
        "id": "UNxvpIe6LaSn"
      },
      "source": [
        "Код для выполнения **задания 3**"
      ]
    },
    {
      "cell_type": "code",
      "metadata": {
        "colab": {
          "base_uri": "https://localhost:8080/"
        },
        "id": "gjxno4pBLTII",
        "outputId": "bf551ff0-83d2-4b53-cf08-aeef6df38ff2"
      },
      "source": [
        "## Ваш код\n",
        "%%R"
      ],
      "execution_count": null,
      "outputs": [
        {
          "output_type": "stream",
          "name": "stderr",
          "text": [
            "UsageError: %%R is a cell magic, but the cell body is empty. Did you mean the line magic %R (single %)?\n"
          ]
        }
      ]
    }
  ]
}