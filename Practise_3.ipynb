{
  "nbformat": 4,
  "nbformat_minor": 0,
  "metadata": {
    "colab": {
      "name": "Practise_3.ipynb",
      "provenance": [],
      "authorship_tag": "ABX9TyMZ7TAn9eOL5Fkd3IU0YHcO",
      "include_colab_link": true
    },
    "kernelspec": {
      "name": "python3",
      "display_name": "Python 3"
    },
    "language_info": {
      "name": "python"
    }
  },
  "cells": [
    {
      "cell_type": "markdown",
      "metadata": {
        "id": "view-in-github",
        "colab_type": "text"
      },
      "source": [
        "<a href=\"https://colab.research.google.com/github/antonsysoev/ktmi_ai/blob/main/Practise_3.ipynb\" target=\"_parent\"><img src=\"https://colab.research.google.com/assets/colab-badge.svg\" alt=\"Open In Colab\"/></a>"
      ]
    },
    {
      "cell_type": "markdown",
      "metadata": {
        "id": "fBO_RkOhaNLD"
      },
      "source": [
        "1. Давайте воспользуемся генератором случайных чисел R для нормального распределения/ Cписки значений, генерируемые функцией rnorm(), берутся из популяции, которая действительно имеет нормальное распределение.\n",
        "\n",
        "* Сгенерируйте список из 10 случайных нормально распределенных чисел со средним значением 15 и стандартным отклонением 3.\n",
        "* С помощью функции hist() постройте гистограмму распределения этих чисел.\n",
        "* Постройте график QQ-plot из сгенерированных чисел.\n",
        "* Повторите действия несколько раз (не менее десятка раз). Для каждого из них посмотрите на гистограммы и графики QQ. Подумайте, чем они отличаются от  нормального распределения (но помните, что каждая из этих выборок взята из действительно нормальной популяции).\n",
        "\n",
        "2. Файл \"mammals.csv\" содержит информацию о массе тела различных видов млекопитающих.\n",
        "\n",
        "* Изобразите распределение массы тела и опишите его форму. Похоже ли это на нормальное распределение?\n",
        "* Преобразуйте данные о массе тела с помощью логарифмического преобразования. Постройте график распределения логарифмической массы тела. Опишите новое распределение и проверьте его на нормальность. (Попробуйте 2-3 распределения и выберите лучшее)."
      ]
    },
    {
      "cell_type": "code",
      "metadata": {
        "id": "_4mPRWrdbdnv"
      },
      "source": [
        "%load_ext rpy2.ipython"
      ],
      "execution_count": null,
      "outputs": []
    },
    {
      "cell_type": "code",
      "metadata": {
        "id": "MFfN9TQTbuid",
        "colab": {
          "base_uri": "https://localhost:8080/"
        },
        "outputId": "3bba2277-401c-496f-fb42-ea71acd44a22"
      },
      "source": [
        "%%R\n",
        "# Ваше решение здесь"
      ],
      "execution_count": null,
      "outputs": [
        {
          "output_type": "stream",
          "name": "stdout",
          "text": [
            "NULL\n"
          ]
        }
      ]
    },
    {
      "cell_type": "code",
      "metadata": {
        "id": "o4eOF89ebye8"
      },
      "source": [
        ""
      ],
      "execution_count": null,
      "outputs": []
    }
  ]
}